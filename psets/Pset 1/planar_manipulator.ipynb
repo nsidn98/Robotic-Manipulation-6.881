{
  "nbformat": 4,
  "nbformat_minor": 0,
  "metadata": {
    "celltoolbar": "Tags",
    "colab": {
      "name": "planar_manipulator.ipynb",
      "provenance": [],
      "collapsed_sections": []
    },
    "kernelspec": {
      "display_name": "Python 3",
      "language": "python",
      "name": "python3"
    },
    "language_info": {
      "codemirror_mode": {
        "name": "ipython",
        "version": 3
      },
      "file_extension": ".py",
      "mimetype": "text/x-python",
      "name": "python",
      "nbconvert_exporter": "python",
      "pygments_lexer": "ipython3",
      "version": "3.6.9"
    }
  },
  "cells": [
    {
      "cell_type": "markdown",
      "metadata": {
        "colab_type": "text",
        "id": "z6NJXa-db0Rz"
      },
      "source": [
        "##**The Planar Manipulator**"
      ]
    },
    {
      "cell_type": "markdown",
      "metadata": {
        "colab_type": "text",
        "id": "VsbCH_XUJDCN"
      },
      "source": [
        "## Notebook Setup \n",
        "The following cell will install Drake, checkout the manipulation repository, and set up the path (only if necessary).\n",
        "- On Google's Colaboratory, this **will take approximately two minutes** on the first time it runs (to provision the machine), but should only need to reinstall once every 12 hours.  \n",
        "\n",
        "More details are available [here](http://manipulation.mit.edu/drake.html)."
      ]
    },
    {
      "cell_type": "code",
      "metadata": {
        "colab_type": "code",
        "id": "ChCh61slcGtj",
        "colab": {}
      },
      "source": [
        "import importlib\n",
        "import os, sys\n",
        "from urllib.request import urlretrieve\n",
        "\n",
        "if 'google.colab' in sys.modules and importlib.util.find_spec('manipulation') is None:\n",
        "    urlretrieve(f\"http://manipulation.csail.mit.edu/scripts/setup/setup_manipulation_colab.py\",\n",
        "                \"setup_manipulation_colab.py\")\n",
        "    from setup_manipulation_colab import setup_manipulation\n",
        "    setup_manipulation(manipulation_sha='dc0eb8aa32e271d9b5299a84435694d0565346af', drake_version='20200909', drake_build='nightly')"
      ],
      "execution_count": 1,
      "outputs": []
    },
    {
      "cell_type": "code",
      "metadata": {
        "colab_type": "code",
        "id": "x9_4IU-fcOaB",
        "colab": {}
      },
      "source": [
        "# python libraries\n",
        "import numpy as np\n",
        "import matplotlib.pyplot as plt, mpld3\n",
        "\n",
        "# enable mpld3 notebook\n",
        "if 'google.colab' in sys.modules:\n",
        "    mpld3.enable_notebook()"
      ],
      "execution_count": 2,
      "outputs": []
    },
    {
      "cell_type": "markdown",
      "metadata": {
        "colab_type": "text",
        "id": "mcSz0hOVtBd5"
      },
      "source": [
        "## Problem Description\n",
        "In the lecture, we learned about forward and differential inverse kinematics. For this exercise, you will derive these equations for a simple two-link planar manipulatorm, using simple geometrical reasoning. As is the case with good toy problems, the two link manipulator has many insights that extend to the multi-link case, despite its apparent simplicity. \n",
        "\n",
        "**These are the main steps of the exercise:**\n",
        "1. Write down the forward kinematics of the two-link manipulator. \n",
        "2. Derive the Jacobian of the forward kinematic map and analyze the conditions for which it is singular. "
      ]
    },
    {
      "cell_type": "markdown",
      "metadata": {
        "colab_type": "text",
        "id": "zGzK9PCRdhAP"
      },
      "source": [
        "# The Two-link Planar Manipulator \n",
        "\n",
        "The two-link planar manipulator is a very popular toy problem in manipulator kinematics and dynamics. The coordinate description of the two link manipulator can be seen in the below image:\n",
        "\n",
        "<img src=\"https://raw.githubusercontent.com/RussTedrake/manipulation/master/figures/exercises/planar_two_link.png\" width=\"700\">\n",
        "\n",
        "In the [monogram notation](https://drake.mit.edu/doxygen_cxx/group__multibody__quantities.html) introduced in the textbook, the forward kinematics of the manipulator refers to writing down the 2D position of the red point in space with respect to the green point, ${}^A p^C$, as a function of joint angles $(q_0,q_1)$. \n",
        "\n",
        "**Below, your job is to write down the forward kinematics of the manipulator. You may assume both arm lengths are equal, and their length is given by L=1.0m**\n",
        "\n",
        "NOTE: You can use `np.sin()` and `np.cos()` for trigonometric implementations.\n",
        "\n",
        "HINT: If you can write down the 2D position of the blue point with respect to the green point, ${}^A p^B$ as a function of $q_0$, and the position of the red point with respect to the blue point, ${}^B p^C$ as a function of $q_1$, then can you write down what ${}^A p^C$ should be?"
      ]
    },
    {
      "cell_type": "code",
      "metadata": {
        "colab_type": "code",
        "id": "U0_SpmSGjCek",
        "colab": {}
      },
      "source": [
        "def forward_kinematics(q):\n",
        "  q0 = q[0] \n",
        "  q1 = q[1] \n",
        "  x = np.cos(q0) + np.cos(q0+q1) # Fill your code here\n",
        "  y = np.sin(q0) + np.sin(q0+q1) # Fill your code here \n",
        "  return np.array([x,y])"
      ],
      "execution_count": 3,
      "outputs": []
    },
    {
      "cell_type": "markdown",
      "metadata": {
        "colab_type": "text",
        "id": "ID5D93clqizu"
      },
      "source": [
        "We've provided a function for you to plot the manipulator and an x-y position in 2D space, so that you can confirm that your reasoning is geometrically correct / debug any problems that occur.\n",
        "\n",
        "Below, if the position of the x marker (your computed forward kinematics) coincides with the red marker (the actual end effector position), then your implementation should be correct. You can run it multiple times for different joint configurations."
      ]
    },
    {
      "cell_type": "code",
      "metadata": {
        "colab_type": "code",
        "id": "iUcSZTmrmzmL",
        "colab": {
          "base_uri": "https://localhost:8080/",
          "height": 309
        },
        "outputId": "39b3e5f6-0e39-4dd7-a022-99c3837bc74a"
      },
      "source": [
        "from manipulation.exercises.pick.plot_planar_manipulator import plot_planar_manipulator\n",
        "\n",
        "q = 2 * np.pi * np.random.rand(2)\n",
        "plot_planar_manipulator(q, forward_kinematics(q))"
      ],
      "execution_count": 4,
      "outputs": [
        {
          "output_type": "display_data",
          "data": {
            "image/png": "[encoded data removed]",
            "text/html": [
              "\n",
              "\n",
              "<style>\n",
              "\n",
              "</style>\n",
              "\n",
              "<div id=\"fig_el1001406442931948088670501813\"></div>\n",
              "<script>\n",
              "function mpld3_load_lib(url, callback){\n",
              "  var s = document.createElement('script');\n",
              "  s.src = url;\n",
              "  s.async = true;\n",
              "  s.onreadystatechange = s.onload = callback;\n",
              "  s.onerror = function(){console.warn(\"failed to load library \" + url);};\n",
              "  document.getElementsByTagName(\"head\")[0].appendChild(s);\n",
              "}\n",
              "\n",
              "if(typeof(mpld3) !== \"undefined\" && mpld3._mpld3IsLoaded){\n",
              "   // already loaded: just create the figure\n",
              "   !function(mpld3){\n",
              "       \n",
              "       mpld3.draw_figure(\"fig_el1001406442931948088670501813\", {\"width\": 432.0, \"height\": 288.0, \"axes\": [{\"bbox\": [0.26083333333333336, 0.125, 0.5033333333333333, 0.755], \"xlim\": [-2.2, 2.2], \"ylim\": [-2.2, 2.2], \"xdomain\": [-2.2, 2.2], \"ydomain\": [-2.2, 2.2], \"xscale\": \"linear\", \"yscale\": \"linear\", \"axes\": [{\"position\": \"bottom\", \"nticks\": 7, \"tickvalues\": null, \"tickformat_formatter\": \"\", \"tickformat\": null, \"scale\": \"linear\", \"fontsize\": 10.0, \"grid\": {\"gridOn\": false}, \"visible\": true}, {\"position\": \"left\", \"nticks\": 11, \"tickvalues\": null, \"tickformat_formatter\": \"\", \"tickformat\": null, \"scale\": \"linear\", \"fontsize\": 10.0, \"grid\": {\"gridOn\": false}, \"visible\": true}], \"axesbg\": \"#FFFFFF\", \"axesbgalpha\": null, \"zoomable\": true, \"id\": \"el100140644295220080\", \"lines\": [{\"data\": \"data01\", \"xindex\": 0, \"yindex\": 1, \"coordinates\": \"data\", \"id\": \"el100140644292596960\", \"color\": \"#000000\", \"linewidth\": 2.0, \"dasharray\": \"none\", \"alpha\": 1, \"zorder\": 2, \"drawstyle\": \"default\"}, {\"data\": \"data02\", \"xindex\": 0, \"yindex\": 1, \"coordinates\": \"data\", \"id\": \"el100140644292597240\", \"color\": \"#000000\", \"linewidth\": 2.0, \"dasharray\": \"none\", \"alpha\": 1, \"zorder\": 2, \"drawstyle\": \"default\"}], \"paths\": [], \"markers\": [{\"data\": \"data03\", \"xindex\": 0, \"yindex\": 1, \"coordinates\": \"data\", \"id\": \"el100140644292598136pts\", \"facecolor\": \"#007F00\", \"edgecolor\": \"#007F00\", \"edgewidth\": 1.0, \"alpha\": 1, \"zorder\": 2, \"markerpath\": [[[0.0, 3.0], [0.7956093000000001, 3.0], [1.5587396123545605, 2.683901074764725], [2.121320343559643, 2.121320343559643], [2.683901074764725, 1.5587396123545605], [3.0, 0.7956093000000001], [3.0, 0.0], [3.0, -0.7956093000000001], [2.683901074764725, -1.5587396123545605], [2.121320343559643, -2.121320343559643], [1.5587396123545605, -2.683901074764725], [0.7956093000000001, -3.0], [0.0, -3.0], [-0.7956093000000001, -3.0], [-1.5587396123545605, -2.683901074764725], [-2.121320343559643, -2.121320343559643], [-2.683901074764725, -1.5587396123545605], [-3.0, -0.7956093000000001], [-3.0, 0.0], [-3.0, 0.7956093000000001], [-2.683901074764725, 1.5587396123545605], [-2.121320343559643, 2.121320343559643], [-1.5587396123545605, 2.683901074764725], [-0.7956093000000001, 3.0], [0.0, 3.0]], [\"M\", \"C\", \"C\", \"C\", \"C\", \"C\", \"C\", \"C\", \"C\", \"Z\"]]}, {\"data\": \"data04\", \"xindex\": 0, \"yindex\": 1, \"coordinates\": \"data\", \"id\": \"el100140644295217560pts\", \"facecolor\": \"#0000FF\", \"edgecolor\": \"#0000FF\", \"edgewidth\": 1.0, \"alpha\": 1, \"zorder\": 2, \"markerpath\": [[[0.0, 3.0], [0.7956093000000001, 3.0], [1.5587396123545605, 2.683901074764725], [2.121320343559643, 2.121320343559643], [2.683901074764725, 1.5587396123545605], [3.0, 0.7956093000000001], [3.0, 0.0], [3.0, -0.7956093000000001], [2.683901074764725, -1.5587396123545605], [2.121320343559643, -2.121320343559643], [1.5587396123545605, -2.683901074764725], [0.7956093000000001, -3.0], [0.0, -3.0], [-0.7956093000000001, -3.0], [-1.5587396123545605, -2.683901074764725], [-2.121320343559643, -2.121320343559643], [-2.683901074764725, -1.5587396123545605], [-3.0, -0.7956093000000001], [-3.0, 0.0], [-3.0, 0.7956093000000001], [-2.683901074764725, 1.5587396123545605], [-2.121320343559643, 2.121320343559643], [-1.5587396123545605, 2.683901074764725], [-0.7956093000000001, 3.0], [0.0, 3.0]], [\"M\", \"C\", \"C\", \"C\", \"C\", \"C\", \"C\", \"C\", \"C\", \"Z\"]]}, {\"data\": \"data05\", \"xindex\": 0, \"yindex\": 1, \"coordinates\": \"data\", \"id\": \"el100140644292145224pts\", \"facecolor\": \"#FF0000\", \"edgecolor\": \"#FF0000\", \"edgewidth\": 1.0, \"alpha\": 1, \"zorder\": 2, \"markerpath\": [[[0.0, 3.0], [0.7956093000000001, 3.0], [1.5587396123545605, 2.683901074764725], [2.121320343559643, 2.121320343559643], [2.683901074764725, 1.5587396123545605], [3.0, 0.7956093000000001], [3.0, 0.0], [3.0, -0.7956093000000001], [2.683901074764725, -1.5587396123545605], [2.121320343559643, -2.121320343559643], [1.5587396123545605, -2.683901074764725], [0.7956093000000001, -3.0], [0.0, -3.0], [-0.7956093000000001, -3.0], [-1.5587396123545605, -2.683901074764725], [-2.121320343559643, -2.121320343559643], [-2.683901074764725, -1.5587396123545605], [-3.0, -0.7956093000000001], [-3.0, 0.0], [-3.0, 0.7956093000000001], [-2.683901074764725, 1.5587396123545605], [-2.121320343559643, 2.121320343559643], [-1.5587396123545605, 2.683901074764725], [-0.7956093000000001, 3.0], [0.0, 3.0]], [\"M\", \"C\", \"C\", \"C\", \"C\", \"C\", \"C\", \"C\", \"C\", \"Z\"]]}, {\"data\": \"data05\", \"xindex\": 0, \"yindex\": 1, \"coordinates\": \"data\", \"id\": \"el100140644292146120pts\", \"facecolor\": \"#000000\", \"edgecolor\": \"#000000\", \"edgewidth\": 1.0, \"alpha\": 1, \"zorder\": 2, \"markerpath\": [[[-7.5, 7.5], [7.5, -7.5], [-7.5, -7.5], [7.5, 7.5]], [\"M\", \"L\", \"M\", \"L\"]]}], \"texts\": [], \"collections\": [], \"images\": [], \"sharex\": [], \"sharey\": []}], \"data\": {\"data01\": [[0.0, 0.0], [0.7004764497273384, 0.713675516868404]], \"data02\": [[0.7004764497273384, 0.713675516868404], [-0.14452274702409174, 1.2484430902023131]], \"data03\": [[0.0, 0.0]], \"data04\": [[0.7004764497273384, 0.713675516868404]], \"data05\": [[-0.14452274702409174, 1.2484430902023131]]}, \"id\": \"el100140644293194808\", \"plugins\": [{\"type\": \"reset\"}, {\"type\": \"zoom\", \"button\": true, \"enabled\": false}, {\"type\": \"boxzoom\", \"button\": true, \"enabled\": false}]});\n",
              "   }(mpld3);\n",
              "}else if(typeof define === \"function\" && define.amd){\n",
              "   // require.js is available: use it to load d3/mpld3\n",
              "   require.config({paths: {d3: \"https://d3js.org/d3.v5\"}});\n",
              "   require([\"d3\"], function(d3){\n",
              "      window.d3 = d3;\n",
              "      mpld3_load_lib(\"https://mpld3.github.io/js/mpld3.v0.5.1.js\", function(){\n",
              "         \n",
              "         mpld3.draw_figure(\"fig_el1001406442931948088670501813\", {\"width\": 432.0, \"height\": 288.0, \"axes\": [{\"bbox\": [0.26083333333333336, 0.125, 0.5033333333333333, 0.755], \"xlim\": [-2.2, 2.2], \"ylim\": [-2.2, 2.2], \"xdomain\": [-2.2, 2.2], \"ydomain\": [-2.2, 2.2], \"xscale\": \"linear\", \"yscale\": \"linear\", \"axes\": [{\"position\": \"bottom\", \"nticks\": 7, \"tickvalues\": null, \"tickformat_formatter\": \"\", \"tickformat\": null, \"scale\": \"linear\", \"fontsize\": 10.0, \"grid\": {\"gridOn\": false}, \"visible\": true}, {\"position\": \"left\", \"nticks\": 11, \"tickvalues\": null, \"tickformat_formatter\": \"\", \"tickformat\": null, \"scale\": \"linear\", \"fontsize\": 10.0, \"grid\": {\"gridOn\": false}, \"visible\": true}], \"axesbg\": \"#FFFFFF\", \"axesbgalpha\": null, \"zoomable\": true, \"id\": \"el100140644295220080\", \"lines\": [{\"data\": \"data01\", \"xindex\": 0, \"yindex\": 1, \"coordinates\": \"data\", \"id\": \"el100140644292596960\", \"color\": \"#000000\", \"linewidth\": 2.0, \"dasharray\": \"none\", \"alpha\": 1, \"zorder\": 2, \"drawstyle\": \"default\"}, {\"data\": \"data02\", \"xindex\": 0, \"yindex\": 1, \"coordinates\": \"data\", \"id\": \"el100140644292597240\", \"color\": \"#000000\", \"linewidth\": 2.0, \"dasharray\": \"none\", \"alpha\": 1, \"zorder\": 2, \"drawstyle\": \"default\"}], \"paths\": [], \"markers\": [{\"data\": \"data03\", \"xindex\": 0, \"yindex\": 1, \"coordinates\": \"data\", \"id\": \"el100140644292598136pts\", \"facecolor\": \"#007F00\", \"edgecolor\": \"#007F00\", \"edgewidth\": 1.0, \"alpha\": 1, \"zorder\": 2, \"markerpath\": [[[0.0, 3.0], [0.7956093000000001, 3.0], [1.5587396123545605, 2.683901074764725], [2.121320343559643, 2.121320343559643], [2.683901074764725, 1.5587396123545605], [3.0, 0.7956093000000001], [3.0, 0.0], [3.0, -0.7956093000000001], [2.683901074764725, -1.5587396123545605], [2.121320343559643, -2.121320343559643], [1.5587396123545605, -2.683901074764725], [0.7956093000000001, -3.0], [0.0, -3.0], [-0.7956093000000001, -3.0], [-1.5587396123545605, -2.683901074764725], [-2.121320343559643, -2.121320343559643], [-2.683901074764725, -1.5587396123545605], [-3.0, -0.7956093000000001], [-3.0, 0.0], [-3.0, 0.7956093000000001], [-2.683901074764725, 1.5587396123545605], [-2.121320343559643, 2.121320343559643], [-1.5587396123545605, 2.683901074764725], [-0.7956093000000001, 3.0], [0.0, 3.0]], [\"M\", \"C\", \"C\", \"C\", \"C\", \"C\", \"C\", \"C\", \"C\", \"Z\"]]}, {\"data\": \"data04\", \"xindex\": 0, \"yindex\": 1, \"coordinates\": \"data\", \"id\": \"el100140644295217560pts\", \"facecolor\": \"#0000FF\", \"edgecolor\": \"#0000FF\", \"edgewidth\": 1.0, \"alpha\": 1, \"zorder\": 2, \"markerpath\": [[[0.0, 3.0], [0.7956093000000001, 3.0], [1.5587396123545605, 2.683901074764725], [2.121320343559643, 2.121320343559643], [2.683901074764725, 1.5587396123545605], [3.0, 0.7956093000000001], [3.0, 0.0], [3.0, -0.7956093000000001], [2.683901074764725, -1.5587396123545605], [2.121320343559643, -2.121320343559643], [1.5587396123545605, -2.683901074764725], [0.7956093000000001, -3.0], [0.0, -3.0], [-0.7956093000000001, -3.0], [-1.5587396123545605, -2.683901074764725], [-2.121320343559643, -2.121320343559643], [-2.683901074764725, -1.5587396123545605], [-3.0, -0.7956093000000001], [-3.0, 0.0], [-3.0, 0.7956093000000001], [-2.683901074764725, 1.5587396123545605], [-2.121320343559643, 2.121320343559643], [-1.5587396123545605, 2.683901074764725], [-0.7956093000000001, 3.0], [0.0, 3.0]], [\"M\", \"C\", \"C\", \"C\", \"C\", \"C\", \"C\", \"C\", \"C\", \"Z\"]]}, {\"data\": \"data05\", \"xindex\": 0, \"yindex\": 1, \"coordinates\": \"data\", \"id\": \"el100140644292145224pts\", \"facecolor\": \"#FF0000\", \"edgecolor\": \"#FF0000\", \"edgewidth\": 1.0, \"alpha\": 1, \"zorder\": 2, \"markerpath\": [[[0.0, 3.0], [0.7956093000000001, 3.0], [1.5587396123545605, 2.683901074764725], [2.121320343559643, 2.121320343559643], [2.683901074764725, 1.5587396123545605], [3.0, 0.7956093000000001], [3.0, 0.0], [3.0, -0.7956093000000001], [2.683901074764725, -1.5587396123545605], [2.121320343559643, -2.121320343559643], [1.5587396123545605, -2.683901074764725], [0.7956093000000001, -3.0], [0.0, -3.0], [-0.7956093000000001, -3.0], [-1.5587396123545605, -2.683901074764725], [-2.121320343559643, -2.121320343559643], [-2.683901074764725, -1.5587396123545605], [-3.0, -0.7956093000000001], [-3.0, 0.0], [-3.0, 0.7956093000000001], [-2.683901074764725, 1.5587396123545605], [-2.121320343559643, 2.121320343559643], [-1.5587396123545605, 2.683901074764725], [-0.7956093000000001, 3.0], [0.0, 3.0]], [\"M\", \"C\", \"C\", \"C\", \"C\", \"C\", \"C\", \"C\", \"C\", \"Z\"]]}, {\"data\": \"data05\", \"xindex\": 0, \"yindex\": 1, \"coordinates\": \"data\", \"id\": \"el100140644292146120pts\", \"facecolor\": \"#000000\", \"edgecolor\": \"#000000\", \"edgewidth\": 1.0, \"alpha\": 1, \"zorder\": 2, \"markerpath\": [[[-7.5, 7.5], [7.5, -7.5], [-7.5, -7.5], [7.5, 7.5]], [\"M\", \"L\", \"M\", \"L\"]]}], \"texts\": [], \"collections\": [], \"images\": [], \"sharex\": [], \"sharey\": []}], \"data\": {\"data01\": [[0.0, 0.0], [0.7004764497273384, 0.713675516868404]], \"data02\": [[0.7004764497273384, 0.713675516868404], [-0.14452274702409174, 1.2484430902023131]], \"data03\": [[0.0, 0.0]], \"data04\": [[0.7004764497273384, 0.713675516868404]], \"data05\": [[-0.14452274702409174, 1.2484430902023131]]}, \"id\": \"el100140644293194808\", \"plugins\": [{\"type\": \"reset\"}, {\"type\": \"zoom\", \"button\": true, \"enabled\": false}, {\"type\": \"boxzoom\", \"button\": true, \"enabled\": false}]});\n",
              "      });\n",
              "    });\n",
              "}else{\n",
              "    // require.js not available: dynamically load d3 & mpld3\n",
              "    mpld3_load_lib(\"https://d3js.org/d3.v5.js\", function(){\n",
              "         mpld3_load_lib(\"https://mpld3.github.io/js/mpld3.v0.5.1.js\", function(){\n",
              "                 \n",
              "                 mpld3.draw_figure(\"fig_el1001406442931948088670501813\", {\"width\": 432.0, \"height\": 288.0, \"axes\": [{\"bbox\": [0.26083333333333336, 0.125, 0.5033333333333333, 0.755], \"xlim\": [-2.2, 2.2], \"ylim\": [-2.2, 2.2], \"xdomain\": [-2.2, 2.2], \"ydomain\": [-2.2, 2.2], \"xscale\": \"linear\", \"yscale\": \"linear\", \"axes\": [{\"position\": \"bottom\", \"nticks\": 7, \"tickvalues\": null, \"tickformat_formatter\": \"\", \"tickformat\": null, \"scale\": \"linear\", \"fontsize\": 10.0, \"grid\": {\"gridOn\": false}, \"visible\": true}, {\"position\": \"left\", \"nticks\": 11, \"tickvalues\": null, \"tickformat_formatter\": \"\", \"tickformat\": null, \"scale\": \"linear\", \"fontsize\": 10.0, \"grid\": {\"gridOn\": false}, \"visible\": true}], \"axesbg\": \"#FFFFFF\", \"axesbgalpha\": null, \"zoomable\": true, \"id\": \"el100140644295220080\", \"lines\": [{\"data\": \"data01\", \"xindex\": 0, \"yindex\": 1, \"coordinates\": \"data\", \"id\": \"el100140644292596960\", \"color\": \"#000000\", \"linewidth\": 2.0, \"dasharray\": \"none\", \"alpha\": 1, \"zorder\": 2, \"drawstyle\": \"default\"}, {\"data\": \"data02\", \"xindex\": 0, \"yindex\": 1, \"coordinates\": \"data\", \"id\": \"el100140644292597240\", \"color\": \"#000000\", \"linewidth\": 2.0, \"dasharray\": \"none\", \"alpha\": 1, \"zorder\": 2, \"drawstyle\": \"default\"}], \"paths\": [], \"markers\": [{\"data\": \"data03\", \"xindex\": 0, \"yindex\": 1, \"coordinates\": \"data\", \"id\": \"el100140644292598136pts\", \"facecolor\": \"#007F00\", \"edgecolor\": \"#007F00\", \"edgewidth\": 1.0, \"alpha\": 1, \"zorder\": 2, \"markerpath\": [[[0.0, 3.0], [0.7956093000000001, 3.0], [1.5587396123545605, 2.683901074764725], [2.121320343559643, 2.121320343559643], [2.683901074764725, 1.5587396123545605], [3.0, 0.7956093000000001], [3.0, 0.0], [3.0, -0.7956093000000001], [2.683901074764725, -1.5587396123545605], [2.121320343559643, -2.121320343559643], [1.5587396123545605, -2.683901074764725], [0.7956093000000001, -3.0], [0.0, -3.0], [-0.7956093000000001, -3.0], [-1.5587396123545605, -2.683901074764725], [-2.121320343559643, -2.121320343559643], [-2.683901074764725, -1.5587396123545605], [-3.0, -0.7956093000000001], [-3.0, 0.0], [-3.0, 0.7956093000000001], [-2.683901074764725, 1.5587396123545605], [-2.121320343559643, 2.121320343559643], [-1.5587396123545605, 2.683901074764725], [-0.7956093000000001, 3.0], [0.0, 3.0]], [\"M\", \"C\", \"C\", \"C\", \"C\", \"C\", \"C\", \"C\", \"C\", \"Z\"]]}, {\"data\": \"data04\", \"xindex\": 0, \"yindex\": 1, \"coordinates\": \"data\", \"id\": \"el100140644295217560pts\", \"facecolor\": \"#0000FF\", \"edgecolor\": \"#0000FF\", \"edgewidth\": 1.0, \"alpha\": 1, \"zorder\": 2, \"markerpath\": [[[0.0, 3.0], [0.7956093000000001, 3.0], [1.5587396123545605, 2.683901074764725], [2.121320343559643, 2.121320343559643], [2.683901074764725, 1.5587396123545605], [3.0, 0.7956093000000001], [3.0, 0.0], [3.0, -0.7956093000000001], [2.683901074764725, -1.5587396123545605], [2.121320343559643, -2.121320343559643], [1.5587396123545605, -2.683901074764725], [0.7956093000000001, -3.0], [0.0, -3.0], [-0.7956093000000001, -3.0], [-1.5587396123545605, -2.683901074764725], [-2.121320343559643, -2.121320343559643], [-2.683901074764725, -1.5587396123545605], [-3.0, -0.7956093000000001], [-3.0, 0.0], [-3.0, 0.7956093000000001], [-2.683901074764725, 1.5587396123545605], [-2.121320343559643, 2.121320343559643], [-1.5587396123545605, 2.683901074764725], [-0.7956093000000001, 3.0], [0.0, 3.0]], [\"M\", \"C\", \"C\", \"C\", \"C\", \"C\", \"C\", \"C\", \"C\", \"Z\"]]}, {\"data\": \"data05\", \"xindex\": 0, \"yindex\": 1, \"coordinates\": \"data\", \"id\": \"el100140644292145224pts\", \"facecolor\": \"#FF0000\", \"edgecolor\": \"#FF0000\", \"edgewidth\": 1.0, \"alpha\": 1, \"zorder\": 2, \"markerpath\": [[[0.0, 3.0], [0.7956093000000001, 3.0], [1.5587396123545605, 2.683901074764725], [2.121320343559643, 2.121320343559643], [2.683901074764725, 1.5587396123545605], [3.0, 0.7956093000000001], [3.0, 0.0], [3.0, -0.7956093000000001], [2.683901074764725, -1.5587396123545605], [2.121320343559643, -2.121320343559643], [1.5587396123545605, -2.683901074764725], [0.7956093000000001, -3.0], [0.0, -3.0], [-0.7956093000000001, -3.0], [-1.5587396123545605, -2.683901074764725], [-2.121320343559643, -2.121320343559643], [-2.683901074764725, -1.5587396123545605], [-3.0, -0.7956093000000001], [-3.0, 0.0], [-3.0, 0.7956093000000001], [-2.683901074764725, 1.5587396123545605], [-2.121320343559643, 2.121320343559643], [-1.5587396123545605, 2.683901074764725], [-0.7956093000000001, 3.0], [0.0, 3.0]], [\"M\", \"C\", \"C\", \"C\", \"C\", \"C\", \"C\", \"C\", \"C\", \"Z\"]]}, {\"data\": \"data05\", \"xindex\": 0, \"yindex\": 1, \"coordinates\": \"data\", \"id\": \"el100140644292146120pts\", \"facecolor\": \"#000000\", \"edgecolor\": \"#000000\", \"edgewidth\": 1.0, \"alpha\": 1, \"zorder\": 2, \"markerpath\": [[[-7.5, 7.5], [7.5, -7.5], [-7.5, -7.5], [7.5, 7.5]], [\"M\", \"L\", \"M\", \"L\"]]}], \"texts\": [], \"collections\": [], \"images\": [], \"sharex\": [], \"sharey\": []}], \"data\": {\"data01\": [[0.0, 0.0], [0.7004764497273384, 0.713675516868404]], \"data02\": [[0.7004764497273384, 0.713675516868404], [-0.14452274702409174, 1.2484430902023131]], \"data03\": [[0.0, 0.0]], \"data04\": [[0.7004764497273384, 0.713675516868404]], \"data05\": [[-0.14452274702409174, 1.2484430902023131]]}, \"id\": \"el100140644293194808\", \"plugins\": [{\"type\": \"reset\"}, {\"type\": \"zoom\", \"button\": true, \"enabled\": false}, {\"type\": \"boxzoom\", \"button\": true, \"enabled\": false}]});\n",
              "            })\n",
              "         });\n",
              "}\n",
              "</script>"
            ],
            "text/plain": [
              "<Figure size 432x288 with 1 Axes>"
            ]
          },
          "metadata": {
            "tags": [],
            "needs_background": "light"
          }
        }
      ]
    },
    {
      "cell_type": "markdown",
      "metadata": {
        "colab_type": "text",
        "id": "7ljl897Nrnpr"
      },
      "source": [
        "## The Translational Jacobian \n",
        "\n",
        "Now that we have the forward kinematics function that gives us our end-effector position given the joint angles:\n",
        "$${}^Ap^C=f(q),$$\n",
        "\n",
        "Our job now is to derive the translational Jacobian of this simple manipulator. As observed in the lecture, the translational [Jacobian](https://en.wikipedia.org/wiki/Jacobian_matrix_and_determinant) is a matrix relating how a change in end-effector position is related to changes in joint angles: \n",
        "\n",
        "$$d {}^Ap^C=\\frac{\\partial f(q)}{\\partial q} dq = \\mathbf{J}(q) dq.$$\n",
        "\n",
        "If you are not familiar with vector calculus, you can write it down even more explicitly as:\n",
        "\n",
        "$$ \\mathbf{J}(q)=\\frac{\\partial f(q)}{\\partial q} = \\begin{bmatrix} \n",
        "\\partial x/\\partial q_1 & \\partial x/\\partial q_2 \\\\ \n",
        "\\partial y/\\partial q_1 & \\partial y/\\partial q_2 \\end{bmatrix}.$$\n",
        "\n",
        "We recommend you get familiar with these computations since they are super common for most robotic problems! \n",
        "\n",
        "**Below, you will write down the 2x2 Jacobian matrix based on the forward kinematics you have derived above.**"
      ]
    },
    {
      "cell_type": "code",
      "metadata": {
        "colab_type": "code",
        "id": "ofKwMYmPuVEq",
        "colab": {}
      },
      "source": [
        "def Jacobian(q):\n",
        "  q0 = q[0] \n",
        "  q1 = q[1] \n",
        "  J = np.array(\n",
        "      [[-np.sin(q0) - np.sin(q0+q1), -np.sin(q0+q1)], # Fill your code here.\n",
        "       [ np.cos(q0) + np.cos(q0+q1), np.cos(q0+q1)]]   # Fill your code here. \n",
        "  )\n",
        "  return J"
      ],
      "execution_count": 6,
      "outputs": []
    },
    {
      "cell_type": "markdown",
      "metadata": {
        "colab_type": "text",
        "id": "OtU51Er2uzPd"
      },
      "source": [
        "There is one insightful analysis we can do on this Jacobian - when can we invert the Jacobian to successfully recover joint velocities from end-effector velocities? From the textbook, we've seen we can analyze the **kinematic singularities** of the manipulator through the Jacobian - your job will be to explicitly reason about what they are. \n",
        "\n",
        "**What are the values of $(q_1,q_2)$ for which we cannot invert the Jacobian? (i.e. what are the kinematic singularities of this manipulator?)**\n",
        "\n",
        "HINT: You should be able to identify two classes of configurations. \n",
        "\n",
        "NOTE: If you've correctly identified the answer, take a moment to connect this back to the error that we saw while running the telop example when the Kuka reached too far - do you see the fundamental source of this error now?  "
      ]
    },
    {
      "cell_type": "markdown",
      "metadata": {
        "colab_type": "text",
        "id": "KToC8qNW-JqP"
      },
      "source": [
        "## Your Answer\n",
        "\n",
        "Answer the question here, and copy-paste to the Gradescope 'written submission' section!\n",
        "\n",
        "The Jacobian will be non-invertible when the det(J)=0 or rank(J)<2. This happens when we have q1=0; q0 can be any angle. In essence, the two-link manipulator is completely straight or full-extended. In this case, the Jacobian becomes:\n",
        "$$ \\mathbf{J}(q) = \\begin{bmatrix} \n",
        "-2\\sin(q_0) & -\\sin(q_0) \\\\ \n",
        "2\\cos(q_0) & \\cos(q_0) \\end{bmatrix}.$$\n",
        "\n",
        "And det(J)=0.\n",
        "\n"
      ]
    },
    {
      "cell_type": "markdown",
      "metadata": {
        "colab_type": "text",
        "id": "zPmeRLtJk410"
      },
      "source": [
        "##How will this notebook be Graded?##\n",
        "\n",
        "If you are enrolled in the class, this notebook will be graded using [Gradescope](www.gradescope.com). You should have gotten the enrollement code on our announcement in Piazza. \n",
        "\n",
        "For submission of this assignment, you must do two things. \n",
        "- Download and submit the notebook `planar_manipulator.ipynb` to Gradescope's notebook submission section, along with your notebook for the other problems.\n",
        "- Copy and Paste your answer to the kinematic singularity problem to Gradescope's written submission section. \n",
        "\n",
        "We will evaluate the local functions in the notebook to see if the function behaves as we have expected. For this exercise, the rubric is as follows:\n",
        "- [2 pts] `forward_kinematics` must be implemented correctly. \n",
        "- [2 pts] `Jacobian` must be implemented correctly.\n",
        "- [2 pts] You must answer correctly what the kinematic singularities are."
      ]
    },
    {
      "cell_type": "markdown",
      "metadata": {
        "colab_type": "text",
        "id": "RiIaH2YlTcmc"
      },
      "source": [
        "Below is our autograder where you can check the correctness of your implementation. "
      ]
    },
    {
      "cell_type": "code",
      "metadata": {
        "colab_type": "code",
        "id": "ZXZateGeTlKX",
        "colab": {
          "base_uri": "https://localhost:8080/",
          "height": 102
        },
        "outputId": "f08681b6-a089-4f23-aff7-fca75be1e22a"
      },
      "source": [
        "from manipulation.exercises.pick.test_planar_manipulator import TestPlanarManipulator \n",
        "from manipulation.exercises.grader import Grader \n",
        "\n",
        "Grader.grade_output([TestPlanarManipulator], [locals()], 'results.json')\n",
        "Grader.print_test_results('results.json')"
      ],
      "execution_count": 7,
      "outputs": [
        {
          "output_type": "stream",
          "text": [
            "Total score is 4/4.\n",
            "\n",
            "Score for Test forward kinematics is 2/2.\n",
            "\n",
            "Score for Test jacobian is 2/2.\n"
          ],
          "name": "stdout"
        }
      ]
    },
    {
      "cell_type": "code",
      "metadata": {
        "id": "UAhtz4-XV6Js",
        "colab_type": "code",
        "colab": {}
      },
      "source": [
        ""
      ],
      "execution_count": null,
      "outputs": []
    }
  ]
}